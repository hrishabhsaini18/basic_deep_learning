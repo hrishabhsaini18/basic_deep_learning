{
  "nbformat": 4,
  "nbformat_minor": 0,
  "metadata": {
    "colab": {
      "provenance": [],
      "authorship_tag": "ABX9TyMGEnRfqB7lZGkWb1FrVZXR",
      "include_colab_link": true
    },
    "kernelspec": {
      "name": "python3",
      "display_name": "Python 3"
    },
    "language_info": {
      "name": "python"
    }
  },
  "cells": [
    {
      "cell_type": "markdown",
      "metadata": {
        "id": "view-in-github",
        "colab_type": "text"
      },
      "source": [
        "<a href=\"https://colab.research.google.com/github/hrishabhsaini18/basic_deep_learning/blob/main/Simple%20regression%20problem_PyTorch.ipynb\" target=\"_parent\"><img src=\"https://colab.research.google.com/assets/colab-badge.svg\" alt=\"Open In Colab\"/></a>"
      ]
    },
    {
      "cell_type": "code",
      "source": [
        "# Basic libraries for ANN\n",
        "import torch\n",
        "import torch.nn as nn\n",
        "import torch.nn.functional as F\n",
        "import torch.optim as optim\n",
        "\n",
        "# General libraries\n",
        "import numpy as np\n",
        "import pandas as pd\n",
        "import matplotlib.pyplot as plt\n",
        "import seaborn as sns"
      ],
      "metadata": {
        "id": "w35_QCmNlB6F"
      },
      "execution_count": 138,
      "outputs": []
    },
    {
      "cell_type": "code",
      "source": [
        "# generating dummy data\n",
        "X = np.array([x for x in range(100)])\n",
        "X = X.reshape(-1,1)  # col vector or a 2D tensor\n",
        "\n",
        "y = 46 + 2 * X.flatten()  # making X to 1D by flattening"
      ],
      "metadata": {
        "id": "C_8gqSLUlkGB"
      },
      "execution_count": 139,
      "outputs": []
    },
    {
      "cell_type": "code",
      "source": [
        "plt.scatter(X,y, label='Initial data')\n",
        "plt.title('Pre pytorch data')\n",
        "plt.xlabel('X')\n",
        "plt.ylabel('y')\n",
        "plt.legend()\n",
        "plt.show()"
      ],
      "metadata": {
        "id": "flVhKoXtmLsQ"
      },
      "execution_count": null,
      "outputs": []
    },
    {
      "cell_type": "code",
      "source": [
        "# convert the data into tensor\n",
        "# 1. Normalising the dataset\n",
        "X_mean, X_std = X.mean(), X.std()\n",
        "X_normalised = (X-X_mean)/X_std\n",
        "X_tensor = torch.tensor(X_normalised, dtype=torch.float32)\n",
        "\n",
        "y_mean, y_std = y.mean(), y.std()\n",
        "y_normalised = (y-y_mean)/y_std\n",
        "y_tensor = torch.tensor(y_normalised, dtype=torch.float32)"
      ],
      "metadata": {
        "id": "qwpfxSYzmMZI"
      },
      "execution_count": 141,
      "outputs": []
    },
    {
      "cell_type": "code",
      "source": [
        "# print(X_tensor.shape, f'\\n \\n',  X_tensor)\n",
        "# print(y_tensor.shape, f'\\n \\n',  y_tensor)"
      ],
      "metadata": {
        "id": "4_SnPxLj_N7a"
      },
      "execution_count": 165,
      "outputs": []
    },
    {
      "cell_type": "code",
      "source": [
        "# Creating the neural network model CLASS\n",
        "class linear_reg_model(nn.Module):\n",
        "  def __init__(self, ip_node, op_node):\n",
        "    super().__init__() # deals with inheritance\n",
        "    self.linear = nn.Linear(ip_node, op_node)\n",
        "\n",
        "  def forward(self, x):\n",
        "    return self.linear(x).squeeze(1)\n",
        "\n",
        "ip_node = 1\n",
        "op_node = 1\n",
        "torch.manual_seed(20)\n",
        "model = linear_reg_model(ip_node, op_node)\n"
      ],
      "metadata": {
        "id": "nF2hlJH8_R0e"
      },
      "execution_count": 143,
      "outputs": []
    },
    {
      "cell_type": "code",
      "source": [
        "# define criterion and optimizer\n",
        "criterion = nn.MSELoss()\n",
        "optimizer = optim.SGD(model.parameters(), lr=0.05)"
      ],
      "metadata": {
        "id": "QYJqLdHNBIzF"
      },
      "execution_count": 144,
      "outputs": []
    },
    {
      "cell_type": "code",
      "source": [
        "epochs = 50\n",
        "# loss_array = []\n",
        "\n",
        "# forward\n",
        "for i in range(epochs):\n",
        "  y_val =  model(X_tensor)\n",
        "  #calculate the loss\n",
        "  loss = criterion(y_val, y_tensor)\n",
        "\n",
        "  #bakward pass\n",
        "  optimizer.zero_grad()\n",
        "  loss.backward()\n",
        "  # optimization\n",
        "  optimizer.step()\n",
        "\n",
        "  print(f'Epoch [{i+1}/{epochs}], loss:{loss:.2f}')"
      ],
      "metadata": {
        "id": "3rWcPpFaEGDS"
      },
      "execution_count": null,
      "outputs": []
    },
    {
      "cell_type": "code",
      "source": [
        "model.eval()"
      ],
      "metadata": {
        "colab": {
          "base_uri": "https://localhost:8080/"
        },
        "id": "zVFitQLAHkPI",
        "outputId": "f86f42e1-54d1-4b24-c217-afb9260e9362"
      },
      "execution_count": 146,
      "outputs": [
        {
          "output_type": "execute_result",
          "data": {
            "text/plain": [
              "linear_reg_model(\n",
              "  (linear): Linear(in_features=1, out_features=1, bias=True)\n",
              ")"
            ]
          },
          "metadata": {},
          "execution_count": 146
        }
      ]
    },
    {
      "cell_type": "code",
      "source": [
        "# checking the validity\n",
        "new_x =12\n",
        "new_x_normalised = (new_x - X_mean)/X_std\n",
        "new_x_tensor = torch.tensor(new_x_normalised, dtype=torch.float32).view(-1,1)\n",
        "\n",
        "with torch.no_grad():\n",
        "  y_normalised = model(new_x_tensor)\n",
        "\n",
        "new_y = y_normalised*y_std + y_mean\n",
        "print(f'for X={new_x}, the value y={new_y.detach().numpy().item():.1f}')"
      ],
      "metadata": {
        "colab": {
          "base_uri": "https://localhost:8080/"
        },
        "id": "C42tIkwaGTUh",
        "outputId": "59a263b2-b540-455c-ce20-2364be77af3e"
      },
      "execution_count": 147,
      "outputs": [
        {
          "output_type": "stream",
          "name": "stdout",
          "text": [
            "for X=12, the value y=70.1\n"
          ]
        }
      ]
    },
    {
      "cell_type": "code",
      "source": [
        "plt.scatter(X, y, label='Initial data', marker='o', facecolors='none', edgecolors='blue')\n",
        "fit_line = model(X_tensor).detach().numpy() * y_std + y_mean\n",
        "plt.plot(X, fit_line, 'r', label='Linear fit')\n",
        "\n",
        "plt.title('Fit data')\n",
        "plt.xlabel('X')\n",
        "plt.ylabel('y')\n",
        "plt.legend()\n",
        "plt.show()"
      ],
      "metadata": {
        "id": "yPVUj-AnHmRu"
      },
      "execution_count": null,
      "outputs": []
    },
    {
      "cell_type": "code",
      "source": [],
      "metadata": {
        "id": "xlz34t2b6YOA"
      },
      "execution_count": null,
      "outputs": []
    }
  ]
}