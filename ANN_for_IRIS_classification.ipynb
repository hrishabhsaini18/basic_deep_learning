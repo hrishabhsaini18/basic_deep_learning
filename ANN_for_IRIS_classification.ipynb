{
  "nbformat": 4,
  "nbformat_minor": 0,
  "metadata": {
    "colab": {
      "provenance": [],
      "authorship_tag": "ABX9TyOaISUHXeQSCkcIWCbEV+VL",
      "include_colab_link": true
    },
    "kernelspec": {
      "name": "python3",
      "display_name": "Python 3"
    },
    "language_info": {
      "name": "python"
    }
  },
  "cells": [
    {
      "cell_type": "markdown",
      "metadata": {
        "id": "view-in-github",
        "colab_type": "text"
      },
      "source": [
        "<a href=\"https://colab.research.google.com/github/hrishabhsaini18/basic_deep_learning/blob/main/ANN_for_IRIS_classification.ipynb\" target=\"_parent\"><img src=\"https://colab.research.google.com/assets/colab-badge.svg\" alt=\"Open In Colab\"/></a>"
      ]
    },
    {
      "cell_type": "code",
      "execution_count": null,
      "metadata": {
        "id": "TvqynFu6lrYe"
      },
      "outputs": [],
      "source": [
        "# Importing the basic libraries\n",
        "\n",
        "import numpy as np\n",
        "import pandas as pd\n",
        "import matplotlib.pyplot as plt\n",
        "\n",
        "import torch\n",
        "import torch.nn as nn\n",
        "import torch.nn.functional as F"
      ]
    },
    {
      "cell_type": "code",
      "source": [
        "# Defining the basic model structure of the NN\n",
        "class Model(nn.Module):\n",
        "\n",
        "  def __init__(self, in_nodes=4, hidden_1=10, hidden_2=8, hidden_3=6, out_nodes=3):\n",
        "    super().__init__()\n",
        "    self.fullyconnected1 = nn.Linear(in_nodes, hidden_1)\n",
        "    self.fullyconnected2 = nn.Linear(hidden_1, hidden_2)\n",
        "    self.fullyconnected3 = nn.Linear(hidden_2, hidden_3)\n",
        "    self.output_layer = nn.Linear(hidden_3, out_nodes)\n",
        "\n",
        "  def forward(self,x):\n",
        "    x = F.relu(self.fullyconnected1(x))\n",
        "    x = F.relu(self.fullyconnected2(x))\n",
        "    x = F.relu(self.fullyconnected3(x))\n",
        "    x = self.output_layer(x)\n",
        "\n",
        "    return(x)"
      ],
      "metadata": {
        "id": "sbrmmQBfmavJ"
      },
      "execution_count": null,
      "outputs": []
    },
    {
      "cell_type": "code",
      "source": [
        "# Initiate weights and biases for the model i.e. initial model parameters\n",
        "torch.manual_seed(18)\n",
        "my_model = Model()"
      ],
      "metadata": {
        "id": "WaNxkbDFurj5"
      },
      "execution_count": null,
      "outputs": []
    },
    {
      "cell_type": "code",
      "source": [
        "# Import the dataset\n",
        "path =  'https://gist.githubusercontent.com/netj/8836201/raw/6f9306ad21398ea43cba4f7d537619d0e07d5ae3/iris.csv'\n",
        "user_data = pd.read_csv(path)"
      ],
      "metadata": {
        "id": "foZ_Kz4KoRA1"
      },
      "execution_count": null,
      "outputs": []
    },
    {
      "cell_type": "code",
      "source": [
        "user_data.head()\n",
        "\n",
        "# changing the label as integers\n",
        "user_data['variety'] = user_data['variety'].replace('Setosa', 0)\n",
        "user_data['variety'] = user_data['variety'].replace('Versicolor', 2)\n",
        "user_data['variety'] = user_data['variety'].replace('Virginica', 2)\n",
        "\n",
        "user_data.tail(-19)"
      ],
      "metadata": {
        "colab": {
          "base_uri": "https://localhost:8080/",
          "height": 423
        },
        "id": "Hj7zbOsp2f6u",
        "outputId": "18b2a797-3a16-4ad1-91d4-c6ced7f6ef8e"
      },
      "execution_count": null,
      "outputs": [
        {
          "output_type": "execute_result",
          "data": {
            "text/plain": [
              "     sepal.length  sepal.width  petal.length  petal.width  variety\n",
              "19            5.1          3.8           1.5          0.3        0\n",
              "20            5.4          3.4           1.7          0.2        0\n",
              "21            5.1          3.7           1.5          0.4        0\n",
              "22            4.6          3.6           1.0          0.2        0\n",
              "23            5.1          3.3           1.7          0.5        0\n",
              "..            ...          ...           ...          ...      ...\n",
              "145           6.7          3.0           5.2          2.3        2\n",
              "146           6.3          2.5           5.0          1.9        2\n",
              "147           6.5          3.0           5.2          2.0        2\n",
              "148           6.2          3.4           5.4          2.3        2\n",
              "149           5.9          3.0           5.1          1.8        2\n",
              "\n",
              "[131 rows x 5 columns]"
            ],
            "text/html": [
              "\n",
              "  <div id=\"df-b44b15e4-9bb5-4289-971b-2331cd51a750\" class=\"colab-df-container\">\n",
              "    <div>\n",
              "<style scoped>\n",
              "    .dataframe tbody tr th:only-of-type {\n",
              "        vertical-align: middle;\n",
              "    }\n",
              "\n",
              "    .dataframe tbody tr th {\n",
              "        vertical-align: top;\n",
              "    }\n",
              "\n",
              "    .dataframe thead th {\n",
              "        text-align: right;\n",
              "    }\n",
              "</style>\n",
              "<table border=\"1\" class=\"dataframe\">\n",
              "  <thead>\n",
              "    <tr style=\"text-align: right;\">\n",
              "      <th></th>\n",
              "      <th>sepal.length</th>\n",
              "      <th>sepal.width</th>\n",
              "      <th>petal.length</th>\n",
              "      <th>petal.width</th>\n",
              "      <th>variety</th>\n",
              "    </tr>\n",
              "  </thead>\n",
              "  <tbody>\n",
              "    <tr>\n",
              "      <th>19</th>\n",
              "      <td>5.1</td>\n",
              "      <td>3.8</td>\n",
              "      <td>1.5</td>\n",
              "      <td>0.3</td>\n",
              "      <td>0</td>\n",
              "    </tr>\n",
              "    <tr>\n",
              "      <th>20</th>\n",
              "      <td>5.4</td>\n",
              "      <td>3.4</td>\n",
              "      <td>1.7</td>\n",
              "      <td>0.2</td>\n",
              "      <td>0</td>\n",
              "    </tr>\n",
              "    <tr>\n",
              "      <th>21</th>\n",
              "      <td>5.1</td>\n",
              "      <td>3.7</td>\n",
              "      <td>1.5</td>\n",
              "      <td>0.4</td>\n",
              "      <td>0</td>\n",
              "    </tr>\n",
              "    <tr>\n",
              "      <th>22</th>\n",
              "      <td>4.6</td>\n",
              "      <td>3.6</td>\n",
              "      <td>1.0</td>\n",
              "      <td>0.2</td>\n",
              "      <td>0</td>\n",
              "    </tr>\n",
              "    <tr>\n",
              "      <th>23</th>\n",
              "      <td>5.1</td>\n",
              "      <td>3.3</td>\n",
              "      <td>1.7</td>\n",
              "      <td>0.5</td>\n",
              "      <td>0</td>\n",
              "    </tr>\n",
              "    <tr>\n",
              "      <th>...</th>\n",
              "      <td>...</td>\n",
              "      <td>...</td>\n",
              "      <td>...</td>\n",
              "      <td>...</td>\n",
              "      <td>...</td>\n",
              "    </tr>\n",
              "    <tr>\n",
              "      <th>145</th>\n",
              "      <td>6.7</td>\n",
              "      <td>3.0</td>\n",
              "      <td>5.2</td>\n",
              "      <td>2.3</td>\n",
              "      <td>2</td>\n",
              "    </tr>\n",
              "    <tr>\n",
              "      <th>146</th>\n",
              "      <td>6.3</td>\n",
              "      <td>2.5</td>\n",
              "      <td>5.0</td>\n",
              "      <td>1.9</td>\n",
              "      <td>2</td>\n",
              "    </tr>\n",
              "    <tr>\n",
              "      <th>147</th>\n",
              "      <td>6.5</td>\n",
              "      <td>3.0</td>\n",
              "      <td>5.2</td>\n",
              "      <td>2.0</td>\n",
              "      <td>2</td>\n",
              "    </tr>\n",
              "    <tr>\n",
              "      <th>148</th>\n",
              "      <td>6.2</td>\n",
              "      <td>3.4</td>\n",
              "      <td>5.4</td>\n",
              "      <td>2.3</td>\n",
              "      <td>2</td>\n",
              "    </tr>\n",
              "    <tr>\n",
              "      <th>149</th>\n",
              "      <td>5.9</td>\n",
              "      <td>3.0</td>\n",
              "      <td>5.1</td>\n",
              "      <td>1.8</td>\n",
              "      <td>2</td>\n",
              "    </tr>\n",
              "  </tbody>\n",
              "</table>\n",
              "<p>131 rows × 5 columns</p>\n",
              "</div>\n",
              "    <div class=\"colab-df-buttons\">\n",
              "\n",
              "  <div class=\"colab-df-container\">\n",
              "    <button class=\"colab-df-convert\" onclick=\"convertToInteractive('df-b44b15e4-9bb5-4289-971b-2331cd51a750')\"\n",
              "            title=\"Convert this dataframe to an interactive table.\"\n",
              "            style=\"display:none;\">\n",
              "\n",
              "  <svg xmlns=\"http://www.w3.org/2000/svg\" height=\"24px\" viewBox=\"0 -960 960 960\">\n",
              "    <path d=\"M120-120v-720h720v720H120Zm60-500h600v-160H180v160Zm220 220h160v-160H400v160Zm0 220h160v-160H400v160ZM180-400h160v-160H180v160Zm440 0h160v-160H620v160ZM180-180h160v-160H180v160Zm440 0h160v-160H620v160Z\"/>\n",
              "  </svg>\n",
              "    </button>\n",
              "\n",
              "  <style>\n",
              "    .colab-df-container {\n",
              "      display:flex;\n",
              "      gap: 12px;\n",
              "    }\n",
              "\n",
              "    .colab-df-convert {\n",
              "      background-color: #E8F0FE;\n",
              "      border: none;\n",
              "      border-radius: 50%;\n",
              "      cursor: pointer;\n",
              "      display: none;\n",
              "      fill: #1967D2;\n",
              "      height: 32px;\n",
              "      padding: 0 0 0 0;\n",
              "      width: 32px;\n",
              "    }\n",
              "\n",
              "    .colab-df-convert:hover {\n",
              "      background-color: #E2EBFA;\n",
              "      box-shadow: 0px 1px 2px rgba(60, 64, 67, 0.3), 0px 1px 3px 1px rgba(60, 64, 67, 0.15);\n",
              "      fill: #174EA6;\n",
              "    }\n",
              "\n",
              "    .colab-df-buttons div {\n",
              "      margin-bottom: 4px;\n",
              "    }\n",
              "\n",
              "    [theme=dark] .colab-df-convert {\n",
              "      background-color: #3B4455;\n",
              "      fill: #D2E3FC;\n",
              "    }\n",
              "\n",
              "    [theme=dark] .colab-df-convert:hover {\n",
              "      background-color: #434B5C;\n",
              "      box-shadow: 0px 1px 3px 1px rgba(0, 0, 0, 0.15);\n",
              "      filter: drop-shadow(0px 1px 2px rgba(0, 0, 0, 0.3));\n",
              "      fill: #FFFFFF;\n",
              "    }\n",
              "  </style>\n",
              "\n",
              "    <script>\n",
              "      const buttonEl =\n",
              "        document.querySelector('#df-b44b15e4-9bb5-4289-971b-2331cd51a750 button.colab-df-convert');\n",
              "      buttonEl.style.display =\n",
              "        google.colab.kernel.accessAllowed ? 'block' : 'none';\n",
              "\n",
              "      async function convertToInteractive(key) {\n",
              "        const element = document.querySelector('#df-b44b15e4-9bb5-4289-971b-2331cd51a750');\n",
              "        const dataTable =\n",
              "          await google.colab.kernel.invokeFunction('convertToInteractive',\n",
              "                                                    [key], {});\n",
              "        if (!dataTable) return;\n",
              "\n",
              "        const docLinkHtml = 'Like what you see? Visit the ' +\n",
              "          '<a target=\"_blank\" href=https://colab.research.google.com/notebooks/data_table.ipynb>data table notebook</a>'\n",
              "          + ' to learn more about interactive tables.';\n",
              "        element.innerHTML = '';\n",
              "        dataTable['output_type'] = 'display_data';\n",
              "        await google.colab.output.renderOutput(dataTable, element);\n",
              "        const docLink = document.createElement('div');\n",
              "        docLink.innerHTML = docLinkHtml;\n",
              "        element.appendChild(docLink);\n",
              "      }\n",
              "    </script>\n",
              "  </div>\n",
              "\n",
              "\n",
              "    <div id=\"df-26b44af0-96ae-462b-98b1-3754d6d44c8b\">\n",
              "      <button class=\"colab-df-quickchart\" onclick=\"quickchart('df-26b44af0-96ae-462b-98b1-3754d6d44c8b')\"\n",
              "                title=\"Suggest charts\"\n",
              "                style=\"display:none;\">\n",
              "\n",
              "<svg xmlns=\"http://www.w3.org/2000/svg\" height=\"24px\"viewBox=\"0 0 24 24\"\n",
              "     width=\"24px\">\n",
              "    <g>\n",
              "        <path d=\"M19 3H5c-1.1 0-2 .9-2 2v14c0 1.1.9 2 2 2h14c1.1 0 2-.9 2-2V5c0-1.1-.9-2-2-2zM9 17H7v-7h2v7zm4 0h-2V7h2v10zm4 0h-2v-4h2v4z\"/>\n",
              "    </g>\n",
              "</svg>\n",
              "      </button>\n",
              "\n",
              "<style>\n",
              "  .colab-df-quickchart {\n",
              "      --bg-color: #E8F0FE;\n",
              "      --fill-color: #1967D2;\n",
              "      --hover-bg-color: #E2EBFA;\n",
              "      --hover-fill-color: #174EA6;\n",
              "      --disabled-fill-color: #AAA;\n",
              "      --disabled-bg-color: #DDD;\n",
              "  }\n",
              "\n",
              "  [theme=dark] .colab-df-quickchart {\n",
              "      --bg-color: #3B4455;\n",
              "      --fill-color: #D2E3FC;\n",
              "      --hover-bg-color: #434B5C;\n",
              "      --hover-fill-color: #FFFFFF;\n",
              "      --disabled-bg-color: #3B4455;\n",
              "      --disabled-fill-color: #666;\n",
              "  }\n",
              "\n",
              "  .colab-df-quickchart {\n",
              "    background-color: var(--bg-color);\n",
              "    border: none;\n",
              "    border-radius: 50%;\n",
              "    cursor: pointer;\n",
              "    display: none;\n",
              "    fill: var(--fill-color);\n",
              "    height: 32px;\n",
              "    padding: 0;\n",
              "    width: 32px;\n",
              "  }\n",
              "\n",
              "  .colab-df-quickchart:hover {\n",
              "    background-color: var(--hover-bg-color);\n",
              "    box-shadow: 0 1px 2px rgba(60, 64, 67, 0.3), 0 1px 3px 1px rgba(60, 64, 67, 0.15);\n",
              "    fill: var(--button-hover-fill-color);\n",
              "  }\n",
              "\n",
              "  .colab-df-quickchart-complete:disabled,\n",
              "  .colab-df-quickchart-complete:disabled:hover {\n",
              "    background-color: var(--disabled-bg-color);\n",
              "    fill: var(--disabled-fill-color);\n",
              "    box-shadow: none;\n",
              "  }\n",
              "\n",
              "  .colab-df-spinner {\n",
              "    border: 2px solid var(--fill-color);\n",
              "    border-color: transparent;\n",
              "    border-bottom-color: var(--fill-color);\n",
              "    animation:\n",
              "      spin 1s steps(1) infinite;\n",
              "  }\n",
              "\n",
              "  @keyframes spin {\n",
              "    0% {\n",
              "      border-color: transparent;\n",
              "      border-bottom-color: var(--fill-color);\n",
              "      border-left-color: var(--fill-color);\n",
              "    }\n",
              "    20% {\n",
              "      border-color: transparent;\n",
              "      border-left-color: var(--fill-color);\n",
              "      border-top-color: var(--fill-color);\n",
              "    }\n",
              "    30% {\n",
              "      border-color: transparent;\n",
              "      border-left-color: var(--fill-color);\n",
              "      border-top-color: var(--fill-color);\n",
              "      border-right-color: var(--fill-color);\n",
              "    }\n",
              "    40% {\n",
              "      border-color: transparent;\n",
              "      border-right-color: var(--fill-color);\n",
              "      border-top-color: var(--fill-color);\n",
              "    }\n",
              "    60% {\n",
              "      border-color: transparent;\n",
              "      border-right-color: var(--fill-color);\n",
              "    }\n",
              "    80% {\n",
              "      border-color: transparent;\n",
              "      border-right-color: var(--fill-color);\n",
              "      border-bottom-color: var(--fill-color);\n",
              "    }\n",
              "    90% {\n",
              "      border-color: transparent;\n",
              "      border-bottom-color: var(--fill-color);\n",
              "    }\n",
              "  }\n",
              "</style>\n",
              "\n",
              "      <script>\n",
              "        async function quickchart(key) {\n",
              "          const quickchartButtonEl =\n",
              "            document.querySelector('#' + key + ' button');\n",
              "          quickchartButtonEl.disabled = true;  // To prevent multiple clicks.\n",
              "          quickchartButtonEl.classList.add('colab-df-spinner');\n",
              "          try {\n",
              "            const charts = await google.colab.kernel.invokeFunction(\n",
              "                'suggestCharts', [key], {});\n",
              "          } catch (error) {\n",
              "            console.error('Error during call to suggestCharts:', error);\n",
              "          }\n",
              "          quickchartButtonEl.classList.remove('colab-df-spinner');\n",
              "          quickchartButtonEl.classList.add('colab-df-quickchart-complete');\n",
              "        }\n",
              "        (() => {\n",
              "          let quickchartButtonEl =\n",
              "            document.querySelector('#df-26b44af0-96ae-462b-98b1-3754d6d44c8b button');\n",
              "          quickchartButtonEl.style.display =\n",
              "            google.colab.kernel.accessAllowed ? 'block' : 'none';\n",
              "        })();\n",
              "      </script>\n",
              "    </div>\n",
              "\n",
              "    </div>\n",
              "  </div>\n"
            ],
            "application/vnd.google.colaboratory.intrinsic+json": {
              "type": "dataframe",
              "summary": "{\n  \"name\": \"user_data\",\n  \"rows\": 131,\n  \"fields\": [\n    {\n      \"column\": \"sepal.length\",\n      \"properties\": {\n        \"dtype\": \"number\",\n        \"std\": 0.8056122868862847,\n        \"min\": 4.4,\n        \"max\": 7.9,\n        \"num_unique_values\": 34,\n        \"samples\": [\n          6.5,\n          5.9,\n          7.1\n        ],\n        \"semantic_type\": \"\",\n        \"description\": \"\"\n      }\n    },\n    {\n      \"column\": \"sepal.width\",\n      \"properties\": {\n        \"dtype\": \"number\",\n        \"std\": 0.4083710102014942,\n        \"min\": 2.0,\n        \"max\": 4.2,\n        \"num_unique_values\": 20,\n        \"samples\": [\n          3.8,\n          2.2,\n          2.7\n        ],\n        \"semantic_type\": \"\",\n        \"description\": \"\"\n      }\n    },\n    {\n      \"column\": \"petal.length\",\n      \"properties\": {\n        \"dtype\": \"number\",\n        \"std\": 1.631840046621268,\n        \"min\": 1.0,\n        \"max\": 6.9,\n        \"num_unique_values\": 42,\n        \"samples\": [\n          5.1,\n          3.3,\n          4.7\n        ],\n        \"semantic_type\": \"\",\n        \"description\": \"\"\n      }\n    },\n    {\n      \"column\": \"petal.width\",\n      \"properties\": {\n        \"dtype\": \"number\",\n        \"std\": 0.7127065842820025,\n        \"min\": 0.1,\n        \"max\": 2.5,\n        \"num_unique_values\": 22,\n        \"samples\": [\n          0.3,\n          1.2,\n          1.3\n        ],\n        \"semantic_type\": \"\",\n        \"description\": \"\"\n      }\n    },\n    {\n      \"column\": \"variety\",\n      \"properties\": {\n        \"dtype\": \"number\",\n        \"std\": 0,\n        \"min\": 0,\n        \"max\": 2,\n        \"num_unique_values\": 2,\n        \"samples\": [\n          2,\n          0\n        ],\n        \"semantic_type\": \"\",\n        \"description\": \"\"\n      }\n    }\n  ]\n}"
            }
          },
          "metadata": {},
          "execution_count": 173
        }
      ]
    },
    {
      "cell_type": "code",
      "source": [
        "# Making the data ready for training\n",
        "X = user_data.drop('variety', axis=1)\n",
        "y = user_data['variety']\n",
        "\n",
        "from sklearn.model_selection import train_test_split\n",
        "X_train, X_test, y_train, y_test = train_test_split(X, y, test_size=0.25, random_state=10)\n",
        "\n",
        "print(type(X_train), type(y_train))"
      ],
      "metadata": {
        "colab": {
          "base_uri": "https://localhost:8080/"
        },
        "id": "brkpM4cepy8R",
        "outputId": "4fd67b66-fd41-49ca-8186-d36209b82844"
      },
      "execution_count": null,
      "outputs": [
        {
          "output_type": "stream",
          "name": "stdout",
          "text": [
            "<class 'pandas.core.frame.DataFrame'> <class 'pandas.core.series.Series'>\n"
          ]
        }
      ]
    },
    {
      "cell_type": "code",
      "source": [
        "# Change these array(by X_train.values etc..) back to tensors (reason will be evident in future models)\n",
        "X_train = torch.FloatTensor(X_train.values)\n",
        "X_test = torch.FloatTensor(X_test.values)\n",
        "y_train = torch.LongTensor(y_train.values)\n",
        "y_test = torch.LongTensor(y_test.values)"
      ],
      "metadata": {
        "id": "FKgtwapK2_eG"
      },
      "execution_count": null,
      "outputs": []
    },
    {
      "cell_type": "code",
      "source": [
        "# Defining the LOSS FUNCTION and LEARNING RATE\n",
        "obj_fn = nn.CrossEntropyLoss()\n",
        "optimizer = torch.optim.Adam(my_model.parameters(), lr=0.01)"
      ],
      "metadata": {
        "id": "qic7n7_-5Clu"
      },
      "execution_count": null,
      "outputs": []
    },
    {
      "cell_type": "code",
      "source": [
        "# Training of the Model(i.e. my_model)\n",
        "epochs = 100 # set epochs for the training\n",
        "losses = []  # define array to append losses\n",
        "\n",
        "for i in range(epochs):\n",
        "  y_pred = my_model.forward(X_train) # output\n",
        "  loss = obj_fn(y_pred, y_train) # calculating the loss\n",
        "  losses.append(loss.detach().numpy())\n",
        "\n",
        "  if i%10 == 0:\n",
        "    print(f'Epoch number:{i} & loss is :{loss}')\n",
        "\n",
        "  optimizer.zero_grad()\n",
        "  loss.backward()\n",
        "  optimizer.step()"
      ],
      "metadata": {
        "colab": {
          "base_uri": "https://localhost:8080/"
        },
        "id": "j6UqBxXp6iPb",
        "outputId": "93cd9958-2f42-4835-f760-01f1945619e1"
      },
      "execution_count": null,
      "outputs": [
        {
          "output_type": "stream",
          "name": "stdout",
          "text": [
            "Epoch number:0 & loss is :0.9974157214164734\n",
            "Epoch number:10 & loss is :0.5230641961097717\n",
            "Epoch number:20 & loss is :0.27643582224845886\n",
            "Epoch number:30 & loss is :0.06777317821979523\n",
            "Epoch number:40 & loss is :0.010910979472100735\n",
            "Epoch number:50 & loss is :0.002574431011453271\n",
            "Epoch number:60 & loss is :0.0011429345468059182\n",
            "Epoch number:70 & loss is :0.0007590684108436108\n",
            "Epoch number:80 & loss is :0.0006022916059009731\n",
            "Epoch number:90 & loss is :0.0005164445610716939\n"
          ]
        }
      ]
    },
    {
      "cell_type": "code",
      "source": [
        "plt.plot(range(epochs), losses)\n",
        "plt.ylabel('Loss')\n",
        "plt.xlabel('Epoch#')"
      ],
      "metadata": {
        "colab": {
          "base_uri": "https://localhost:8080/",
          "height": 466
        },
        "id": "vi50u-Nn8utd",
        "outputId": "278cede9-16fe-4023-9e37-5d6324100eae"
      },
      "execution_count": null,
      "outputs": [
        {
          "output_type": "execute_result",
          "data": {
            "text/plain": [
              "Text(0.5, 0, 'Epoch#')"
            ]
          },
          "metadata": {},
          "execution_count": 166
        },
        {
          "output_type": "display_data",
          "data": {
            "text/plain": [
              "<Figure size 640x480 with 1 Axes>"
            ],
            "image/png": "[encoded data removed]"
          },
          "metadata": {}
        }
      ]
    },
    {
      "cell_type": "code",
      "source": [
        "# Evaluate the model on test dataset\n",
        "with torch.no_grad():\n",
        "  y_eval = my_model.forward(X_test)\n",
        "  loss = obj_fn(y_eval, y_test)\n",
        "loss"
      ],
      "metadata": {
        "colab": {
          "base_uri": "https://localhost:8080/"
        },
        "id": "QoslVRJI-TpC",
        "outputId": "914411e8-576c-424d-e556-938603840ac8"
      },
      "execution_count": null,
      "outputs": [
        {
          "output_type": "execute_result",
          "data": {
            "text/plain": [
              "tensor(0.0002)"
            ]
          },
          "metadata": {},
          "execution_count": 167
        }
      ]
    },
    {
      "cell_type": "code",
      "source": [
        "# check how much it performed on the test dataset\n",
        "true_positives = 0\n",
        "\n",
        "with torch.no_grad():\n",
        "  for i,data in enumerate(X_test):\n",
        "    y_class = my_model.forward(data)\n",
        "\n",
        "    if y_test[i]==0:\n",
        "      label = '0'\n",
        "    elif y_test[i]==1:\n",
        "      label = '1'\n",
        "    else:\n",
        "      label = '2'\n",
        "\n",
        "    # check which class is which\n",
        "    print(f'{i+1} --> {str(y_class)}, True:{label}; Predicted:{y_class.argmax().item()}')\n",
        "\n",
        "    # Count the validation sets\n",
        "    if y_class.argmax().item() == y_test[i]:\n",
        "      true_positives+=1\n",
        "\n",
        "\n",
        "print(f'Total validation accuracy: {true_positives} / {len(y_test)}')\n"
      ],
      "metadata": {
        "colab": {
          "base_uri": "https://localhost:8080/"
        },
        "id": "aYifv79L-8bv",
        "outputId": "9128eb25-b6f6-48a3-dc80-a8a9133b8549"
      },
      "execution_count": null,
      "outputs": [
        {
          "output_type": "stream",
          "name": "stdout",
          "text": [
            "1 --> tensor([ -1.8468, -11.1420,  10.0547]), True:2; Predicted:2\n",
            "2 --> tensor([ -3.2543, -12.4406,  12.4792]), True:2; Predicted:2\n",
            "3 --> tensor([ 6.3125, -6.5860, -1.7226]), True:0; Predicted:0\n",
            "4 --> tensor([ -1.5904, -11.0613,   9.7330]), True:2; Predicted:2\n",
            "5 --> tensor([ 5.8827, -6.1843, -1.5998]), True:0; Predicted:0\n",
            "6 --> tensor([-0.7790, -8.9733,  7.3013]), True:2; Predicted:2\n",
            "7 --> tensor([ -2.5577, -11.7468,  11.2400]), True:2; Predicted:2\n",
            "8 --> tensor([ -0.5039, -10.1524,   7.9314]), True:2; Predicted:2\n",
            "9 --> tensor([ 5.9914, -6.3289, -1.6015]), True:0; Predicted:0\n",
            "10 --> tensor([ -1.6725, -10.6054,   9.4649]), True:2; Predicted:2\n",
            "11 --> tensor([ -1.7862, -10.5689,   9.5516]), True:2; Predicted:2\n",
            "12 --> tensor([ -3.1078, -11.7103,  11.7681]), True:2; Predicted:2\n",
            "13 --> tensor([ -1.5661, -10.0130,   8.9003]), True:2; Predicted:2\n",
            "14 --> tensor([ 5.6984, -6.0941, -1.4889]), True:0; Predicted:0\n",
            "15 --> tensor([ 6.0911, -6.3489, -1.6799]), True:0; Predicted:0\n",
            "16 --> tensor([ -3.4202, -13.0245,  13.0972]), True:2; Predicted:2\n",
            "17 --> tensor([ -1.2994, -10.8695,   9.2900]), True:2; Predicted:2\n",
            "18 --> tensor([ 5.3429, -5.6201, -1.4864]), True:0; Predicted:0\n",
            "19 --> tensor([ 6.0173, -6.3541, -1.6082]), True:0; Predicted:0\n",
            "20 --> tensor([ 5.8447, -6.0636, -1.6471]), True:0; Predicted:0\n",
            "21 --> tensor([ -3.7437, -13.7340,  13.9715]), True:2; Predicted:2\n",
            "22 --> tensor([ -3.6898, -12.9237,  13.2921]), True:2; Predicted:2\n",
            "23 --> tensor([ -2.5896, -11.6237,  11.1772]), True:2; Predicted:2\n",
            "24 --> tensor([ 5.3590, -6.4210, -0.8874]), True:0; Predicted:0\n",
            "25 --> tensor([ -1.1627, -10.5092,   8.8736]), True:2; Predicted:2\n",
            "26 --> tensor([ 5.6293, -5.8742, -1.5774]), True:0; Predicted:0\n",
            "27 --> tensor([ -0.7058, -10.1944,   8.1684]), True:2; Predicted:2\n",
            "28 --> tensor([ -1.6518, -10.3255,   9.2282]), True:2; Predicted:2\n",
            "29 --> tensor([ -1.8564, -11.9340,  10.6750]), True:2; Predicted:2\n",
            "30 --> tensor([ -4.0886, -14.9626,  15.2679]), True:2; Predicted:2\n",
            "31 --> tensor([ -1.2800, -11.4779,   9.7393]), True:2; Predicted:2\n",
            "32 --> tensor([ -0.9481, -10.8090,   8.8874]), True:2; Predicted:2\n",
            "33 --> tensor([ -3.1079, -13.4340,  13.0977]), True:2; Predicted:2\n",
            "34 --> tensor([ -3.4482, -11.9622,  12.3061]), True:2; Predicted:2\n",
            "35 --> tensor([ -3.1023, -12.0745,  12.0431]), True:2; Predicted:2\n",
            "36 --> tensor([ 5.5586, -5.8504, -1.5285]), True:0; Predicted:0\n",
            "37 --> tensor([ -3.4481, -13.0780,  13.1668]), True:2; Predicted:2\n",
            "38 --> tensor([ -3.6439, -13.3889,  13.6043]), True:2; Predicted:2\n",
            "Total validation accuracy: 38 / 38\n"
          ]
        }
      ]
    },
    {
      "cell_type": "code",
      "source": [
        "# MODEL IS TRAINED!!\n",
        "\"\"\" How can now this model be Saved and Loaded for future references ? \"\"\"\n",
        "\n",
        "torch.save(my_model.state_dict(), 'Trained_model_1.pt')  # saved the parameters in this .pt file"
      ],
      "metadata": {
        "id": "MgGcKDvDBDPh"
      },
      "execution_count": null,
      "outputs": []
    },
    {
      "cell_type": "code",
      "source": [
        "my_new_model = Model()  # to make a new model of same architecture as Model\n",
        "my_new_model.load_state_dict(torch.load('Trained_model_1.pt'))\n",
        "my_new_model.eval()"
      ],
      "metadata": {
        "colab": {
          "base_uri": "https://localhost:8080/"
        },
        "id": "PjqO_cjRDMQ3",
        "outputId": "6aef61b1-cbb5-4d02-cb73-b3025cdcab31"
      },
      "execution_count": null,
      "outputs": [
        {
          "output_type": "execute_result",
          "data": {
            "text/plain": [
              "Model(\n",
              "  (fullyconnected1): Linear(in_features=4, out_features=10, bias=True)\n",
              "  (fullyconnected2): Linear(in_features=10, out_features=8, bias=True)\n",
              "  (fullyconnected3): Linear(in_features=8, out_features=6, bias=True)\n",
              "  (output_layer): Linear(in_features=6, out_features=3, bias=True)\n",
              ")"
            ]
          },
          "metadata": {},
          "execution_count": 170
        }
      ]
    },
    {
      "cell_type": "code",
      "source": [
        "new_data = torch.tensor([5.9,\t3.9,\t1.5,\t0.4])\n",
        "with torch.no_grad():\n",
        "  result = my_new_model(new_data)\n",
        "  print(f'Its flower-{result.argmax().item()}')"
      ],
      "metadata": {
        "colab": {
          "base_uri": "https://localhost:8080/"
        },
        "id": "XlN8bBcOD_NZ",
        "outputId": "5ebf1d2b-fde7-4a9e-c3c2-aa9108e32c46"
      },
      "execution_count": null,
      "outputs": [
        {
          "output_type": "stream",
          "name": "stdout",
          "text": [
            "Its flower-0\n"
          ]
        }
      ]
    }
  ]
}